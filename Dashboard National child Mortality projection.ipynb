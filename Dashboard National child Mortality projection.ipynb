{
 "cells": [
  {
   "cell_type": "code",
   "execution_count": 3,
   "id": "bb1ed53f",
   "metadata": {},
   "outputs": [],
   "source": [
    "import pandas as pd\n",
    "import numpy as np\n",
    "from matplotlib import pyplot\n",
    "from statsmodels.tsa.ar_model import  AutoReg"
   ]
  },
  {
   "cell_type": "code",
   "execution_count": 4,
   "id": "c457a3f0",
   "metadata": {},
   "outputs": [],
   "source": [
    "df1=pd.read_csv('NationalChildMortalityTrend.csv')"
   ]
  },
  {
   "cell_type": "code",
   "execution_count": 5,
   "id": "4a8f6752",
   "metadata": {},
   "outputs": [
    {
     "data": {
      "text/html": [
       "<div>\n",
       "<style scoped>\n",
       "    .dataframe tbody tr th:only-of-type {\n",
       "        vertical-align: middle;\n",
       "    }\n",
       "\n",
       "    .dataframe tbody tr th {\n",
       "        vertical-align: top;\n",
       "    }\n",
       "\n",
       "    .dataframe thead th {\n",
       "        text-align: right;\n",
       "    }\n",
       "</style>\n",
       "<table border=\"1\" class=\"dataframe\">\n",
       "  <thead>\n",
       "    <tr style=\"text-align: right;\">\n",
       "      <th></th>\n",
       "      <th>S/N</th>\n",
       "      <th>Year</th>\n",
       "      <th>Neonatal</th>\n",
       "      <th>Infant</th>\n",
       "      <th>Under Five</th>\n",
       "    </tr>\n",
       "  </thead>\n",
       "  <tbody>\n",
       "    <tr>\n",
       "      <th>0</th>\n",
       "      <td>1</td>\n",
       "      <td>2016</td>\n",
       "      <td>30.072362</td>\n",
       "      <td>47.363970</td>\n",
       "      <td>58.266749</td>\n",
       "    </tr>\n",
       "    <tr>\n",
       "      <th>1</th>\n",
       "      <td>2</td>\n",
       "      <td>2017</td>\n",
       "      <td>28.477503</td>\n",
       "      <td>37.537606</td>\n",
       "      <td>53.250000</td>\n",
       "    </tr>\n",
       "    <tr>\n",
       "      <th>2</th>\n",
       "      <td>3</td>\n",
       "      <td>2018</td>\n",
       "      <td>27.326054</td>\n",
       "      <td>35.891655</td>\n",
       "      <td>50.640000</td>\n",
       "    </tr>\n",
       "    <tr>\n",
       "      <th>3</th>\n",
       "      <td>4</td>\n",
       "      <td>2019</td>\n",
       "      <td>26.181868</td>\n",
       "      <td>34.347384</td>\n",
       "      <td>48.260000</td>\n",
       "    </tr>\n",
       "    <tr>\n",
       "      <th>4</th>\n",
       "      <td>5</td>\n",
       "      <td>2020</td>\n",
       "      <td>25.044728</td>\n",
       "      <td>32.904653</td>\n",
       "      <td>46.100000</td>\n",
       "    </tr>\n",
       "    <tr>\n",
       "      <th>5</th>\n",
       "      <td>6</td>\n",
       "      <td>2021</td>\n",
       "      <td>23.914438</td>\n",
       "      <td>31.563119</td>\n",
       "      <td>44.170000</td>\n",
       "    </tr>\n",
       "    <tr>\n",
       "      <th>6</th>\n",
       "      <td>7</td>\n",
       "      <td>2022</td>\n",
       "      <td>22.790819</td>\n",
       "      <td>30.322233</td>\n",
       "      <td>42.460000</td>\n",
       "    </tr>\n",
       "    <tr>\n",
       "      <th>7</th>\n",
       "      <td>8</td>\n",
       "      <td>2023</td>\n",
       "      <td>21.673709</td>\n",
       "      <td>29.181237</td>\n",
       "      <td>40.980000</td>\n",
       "    </tr>\n",
       "    <tr>\n",
       "      <th>8</th>\n",
       "      <td>9</td>\n",
       "      <td>2024</td>\n",
       "      <td>20.562960</td>\n",
       "      <td>28.139172</td>\n",
       "      <td>39.710000</td>\n",
       "    </tr>\n",
       "    <tr>\n",
       "      <th>9</th>\n",
       "      <td>10</td>\n",
       "      <td>2025</td>\n",
       "      <td>19.458440</td>\n",
       "      <td>27.194883</td>\n",
       "      <td>38.657000</td>\n",
       "    </tr>\n",
       "  </tbody>\n",
       "</table>\n",
       "</div>"
      ],
      "text/plain": [
       "   S/N  Year   Neonatal     Infant  Under Five\n",
       "0    1  2016  30.072362  47.363970   58.266749\n",
       "1    2  2017  28.477503  37.537606   53.250000\n",
       "2    3  2018  27.326054  35.891655   50.640000\n",
       "3    4  2019  26.181868  34.347384   48.260000\n",
       "4    5  2020  25.044728  32.904653   46.100000\n",
       "5    6  2021  23.914438  31.563119   44.170000\n",
       "6    7  2022  22.790819  30.322233   42.460000\n",
       "7    8  2023  21.673709  29.181237   40.980000\n",
       "8    9  2024  20.562960  28.139172   39.710000\n",
       "9   10  2025  19.458440  27.194883   38.657000"
      ]
     },
     "execution_count": 5,
     "metadata": {},
     "output_type": "execute_result"
    }
   ],
   "source": [
    "df1.head(10)"
   ]
  },
  {
   "cell_type": "code",
   "execution_count": 4,
   "id": "809430d1",
   "metadata": {
    "scrolled": false
   },
   "outputs": [
    {
     "data": {
      "text/html": [
       "\n",
       "        <iframe\n",
       "            width=\"100%\"\n",
       "            height=\"650\"\n",
       "            src=\"http://127.0.0.1:9001/\"\n",
       "            frameborder=\"0\"\n",
       "            allowfullscreen\n",
       "            \n",
       "        ></iframe>\n",
       "        "
      ],
      "text/plain": [
       "<IPython.lib.display.IFrame at 0x12aa7d8d0>"
      ]
     },
     "metadata": {},
     "output_type": "display_data"
    }
   ],
   "source": [
    "import pandas as pd\n",
    "from dash import Dash, dcc, html, Input, Output\n",
    "import plotly.express as px\n",
    "from matplotlib import pyplot\n",
    "\n",
    "app = Dash(__name__)\n",
    "#server=app.server\n",
    "app.layout = html.Div([\n",
    "    html.H4('National Mortality Trend'),\n",
    "    html.P(\"Mortality Type:\"),\n",
    "    dcc.Dropdown(\n",
    "        id=\"time-series-x-ticker\",\n",
    "        options=[\"Neonatal\",\"Infant\",\"Under Five\"],\n",
    "        value=\"Neonatal\",\n",
    "        clearable=False,\n",
    "    ),\n",
    "    \n",
    "    dcc.Graph(id=\"time-series-x-time-series-chart\"),\n",
    "])\n",
    "\n",
    "@app.callback(\n",
    "    Output(\"time-series-x-time-series-chart\", \"figure\"), \n",
    "    Input(\"time-series-x-ticker\", \"value\"))\n",
    "def display_time_series(ticker):\n",
    "    df =pd.read_csv('NationalChildMortalityTrend.csv') # replace with your own data source\n",
    "    fig = px.line(df, x='Year', y=ticker,markers=True)\n",
    "    return fig\n",
    "\n",
    "\n",
    "if __name__ == \"__main__\":\n",
    "    #app.run_server(debug=True)\n",
    "    app.run_server(port = 9001, debug=True)"
   ]
  },
  {
   "cell_type": "code",
   "execution_count": null,
   "id": "dbd7861b",
   "metadata": {},
   "outputs": [],
   "source": []
  },
  {
   "cell_type": "code",
   "execution_count": 56,
   "id": "a7767993",
   "metadata": {},
   "outputs": [],
   "source": [
    "import os\n",
    "from os import kill\n",
    "from os import getpid\n",
    "from signal import SIGKILL"
   ]
  },
  {
   "cell_type": "code",
   "execution_count": 57,
   "id": "cd2017bd",
   "metadata": {},
   "outputs": [],
   "source": [
    "pid = os.getpid()"
   ]
  },
  {
   "cell_type": "code",
   "execution_count": 32,
   "id": "86db26b2",
   "metadata": {},
   "outputs": [
    {
     "name": "stdout",
     "output_type": "stream",
     "text": [
      "Collecting dash-bootstrap-components\n",
      "  Downloading dash_bootstrap_components-1.4.2-py3-none-any.whl (220 kB)\n",
      "\u001b[2K     \u001b[90m━━━━━━━━━━━━━━━━━━━━━━━━━━━━━━━━━━━━━\u001b[0m \u001b[32m220.6/220.6 kB\u001b[0m \u001b[31m989.4 kB/s\u001b[0m eta \u001b[36m0:00:00\u001b[0m00:01\u001b[0m00:01\u001b[0m\n",
      "\u001b[?25hRequirement already satisfied: dash>=2.0.0 in /Users/kasahunabdisa/anaconda3/lib/python3.10/site-packages (from dash-bootstrap-components) (2.11.1)\n",
      "Requirement already satisfied: typing-extensions>=4.1.1 in /Users/kasahunabdisa/anaconda3/lib/python3.10/site-packages (from dash>=2.0.0->dash-bootstrap-components) (4.4.0)\n",
      "Requirement already satisfied: requests in /Users/kasahunabdisa/anaconda3/lib/python3.10/site-packages (from dash>=2.0.0->dash-bootstrap-components) (2.28.1)\n",
      "Requirement already satisfied: retrying in /Users/kasahunabdisa/anaconda3/lib/python3.10/site-packages (from dash>=2.0.0->dash-bootstrap-components) (1.3.4)\n",
      "Requirement already satisfied: ansi2html in /Users/kasahunabdisa/anaconda3/lib/python3.10/site-packages (from dash>=2.0.0->dash-bootstrap-components) (1.8.0)\n",
      "Requirement already satisfied: Flask<2.3.0,>=1.0.4 in /Users/kasahunabdisa/anaconda3/lib/python3.10/site-packages (from dash>=2.0.0->dash-bootstrap-components) (2.2.2)\n",
      "Requirement already satisfied: Werkzeug<2.3.0 in /Users/kasahunabdisa/anaconda3/lib/python3.10/site-packages (from dash>=2.0.0->dash-bootstrap-components) (2.2.2)\n",
      "Requirement already satisfied: nest-asyncio in /Users/kasahunabdisa/anaconda3/lib/python3.10/site-packages (from dash>=2.0.0->dash-bootstrap-components) (1.5.6)\n",
      "Requirement already satisfied: dash-core-components==2.0.0 in /Users/kasahunabdisa/anaconda3/lib/python3.10/site-packages (from dash>=2.0.0->dash-bootstrap-components) (2.0.0)\n",
      "Requirement already satisfied: dash-table==5.0.0 in /Users/kasahunabdisa/anaconda3/lib/python3.10/site-packages (from dash>=2.0.0->dash-bootstrap-components) (5.0.0)\n",
      "Requirement already satisfied: plotly>=5.0.0 in /Users/kasahunabdisa/anaconda3/lib/python3.10/site-packages (from dash>=2.0.0->dash-bootstrap-components) (5.9.0)\n",
      "Requirement already satisfied: dash-html-components==2.0.0 in /Users/kasahunabdisa/anaconda3/lib/python3.10/site-packages (from dash>=2.0.0->dash-bootstrap-components) (2.0.0)\n",
      "Requirement already satisfied: click>=8.0 in /Users/kasahunabdisa/anaconda3/lib/python3.10/site-packages (from Flask<2.3.0,>=1.0.4->dash>=2.0.0->dash-bootstrap-components) (8.0.4)\n",
      "Requirement already satisfied: itsdangerous>=2.0 in /Users/kasahunabdisa/anaconda3/lib/python3.10/site-packages (from Flask<2.3.0,>=1.0.4->dash>=2.0.0->dash-bootstrap-components) (2.0.1)\n",
      "Requirement already satisfied: Jinja2>=3.0 in /Users/kasahunabdisa/anaconda3/lib/python3.10/site-packages (from Flask<2.3.0,>=1.0.4->dash>=2.0.0->dash-bootstrap-components) (3.1.2)\n",
      "Requirement already satisfied: tenacity>=6.2.0 in /Users/kasahunabdisa/anaconda3/lib/python3.10/site-packages (from plotly>=5.0.0->dash>=2.0.0->dash-bootstrap-components) (8.0.1)\n",
      "Requirement already satisfied: MarkupSafe>=2.1.1 in /Users/kasahunabdisa/anaconda3/lib/python3.10/site-packages (from Werkzeug<2.3.0->dash>=2.0.0->dash-bootstrap-components) (2.1.1)\n",
      "Requirement already satisfied: charset-normalizer<3,>=2 in /Users/kasahunabdisa/anaconda3/lib/python3.10/site-packages (from requests->dash>=2.0.0->dash-bootstrap-components) (2.0.4)\n",
      "Requirement already satisfied: idna<4,>=2.5 in /Users/kasahunabdisa/anaconda3/lib/python3.10/site-packages (from requests->dash>=2.0.0->dash-bootstrap-components) (3.4)\n",
      "Requirement already satisfied: certifi>=2017.4.17 in /Users/kasahunabdisa/anaconda3/lib/python3.10/site-packages (from requests->dash>=2.0.0->dash-bootstrap-components) (2022.12.7)\n",
      "Requirement already satisfied: urllib3<1.27,>=1.21.1 in /Users/kasahunabdisa/anaconda3/lib/python3.10/site-packages (from requests->dash>=2.0.0->dash-bootstrap-components) (1.26.14)\n",
      "Requirement already satisfied: six>=1.7.0 in /Users/kasahunabdisa/anaconda3/lib/python3.10/site-packages (from retrying->dash>=2.0.0->dash-bootstrap-components) (1.16.0)\n",
      "Installing collected packages: dash-bootstrap-components\n",
      "Successfully installed dash-bootstrap-components-1.4.2\n",
      "Note: you may need to restart the kernel to use updated packages.\n"
     ]
    }
   ],
   "source": [
    "pip install dash-bootstrap-components"
   ]
  },
  {
   "cell_type": "code",
   "execution_count": 34,
   "id": "6bc3afdf",
   "metadata": {},
   "outputs": [
    {
     "name": "stdout",
     "output_type": "stream",
     "text": [
      "Collecting dash_bootstrap_templates\n",
      "  Downloading dash_bootstrap_templates-1.0.8-py3-none-any.whl (53 kB)\n",
      "\u001b[2K     \u001b[90m━━━━━━━━━━━━━━━━━━━━━━━━━━━━━━━━━━━━━━━\u001b[0m \u001b[32m53.6/53.6 kB\u001b[0m \u001b[31m375.0 kB/s\u001b[0m eta \u001b[36m0:00:00\u001b[0ma \u001b[36m0:00:01\u001b[0m\n",
      "\u001b[?25hRequirement already satisfied: dash in /Users/kasahunabdisa/anaconda3/lib/python3.10/site-packages (from dash_bootstrap_templates) (2.11.1)\n",
      "Requirement already satisfied: dash-bootstrap-components>=1.0.0 in /Users/kasahunabdisa/anaconda3/lib/python3.10/site-packages (from dash_bootstrap_templates) (1.4.2)\n",
      "Requirement already satisfied: numpy in /Users/kasahunabdisa/anaconda3/lib/python3.10/site-packages (from dash_bootstrap_templates) (1.23.5)\n",
      "Requirement already satisfied: dash-html-components==2.0.0 in /Users/kasahunabdisa/anaconda3/lib/python3.10/site-packages (from dash->dash_bootstrap_templates) (2.0.0)\n",
      "Requirement already satisfied: typing-extensions>=4.1.1 in /Users/kasahunabdisa/anaconda3/lib/python3.10/site-packages (from dash->dash_bootstrap_templates) (4.4.0)\n",
      "Requirement already satisfied: Flask<2.3.0,>=1.0.4 in /Users/kasahunabdisa/anaconda3/lib/python3.10/site-packages (from dash->dash_bootstrap_templates) (2.2.2)\n",
      "Requirement already satisfied: Werkzeug<2.3.0 in /Users/kasahunabdisa/anaconda3/lib/python3.10/site-packages (from dash->dash_bootstrap_templates) (2.2.2)\n",
      "Requirement already satisfied: ansi2html in /Users/kasahunabdisa/anaconda3/lib/python3.10/site-packages (from dash->dash_bootstrap_templates) (1.8.0)\n",
      "Requirement already satisfied: dash-core-components==2.0.0 in /Users/kasahunabdisa/anaconda3/lib/python3.10/site-packages (from dash->dash_bootstrap_templates) (2.0.0)\n",
      "Requirement already satisfied: dash-table==5.0.0 in /Users/kasahunabdisa/anaconda3/lib/python3.10/site-packages (from dash->dash_bootstrap_templates) (5.0.0)\n",
      "Requirement already satisfied: plotly>=5.0.0 in /Users/kasahunabdisa/anaconda3/lib/python3.10/site-packages (from dash->dash_bootstrap_templates) (5.9.0)\n",
      "Requirement already satisfied: nest-asyncio in /Users/kasahunabdisa/anaconda3/lib/python3.10/site-packages (from dash->dash_bootstrap_templates) (1.5.6)\n",
      "Requirement already satisfied: requests in /Users/kasahunabdisa/anaconda3/lib/python3.10/site-packages (from dash->dash_bootstrap_templates) (2.28.1)\n",
      "Requirement already satisfied: retrying in /Users/kasahunabdisa/anaconda3/lib/python3.10/site-packages (from dash->dash_bootstrap_templates) (1.3.4)\n",
      "Requirement already satisfied: itsdangerous>=2.0 in /Users/kasahunabdisa/anaconda3/lib/python3.10/site-packages (from Flask<2.3.0,>=1.0.4->dash->dash_bootstrap_templates) (2.0.1)\n",
      "Requirement already satisfied: Jinja2>=3.0 in /Users/kasahunabdisa/anaconda3/lib/python3.10/site-packages (from Flask<2.3.0,>=1.0.4->dash->dash_bootstrap_templates) (3.1.2)\n",
      "Requirement already satisfied: click>=8.0 in /Users/kasahunabdisa/anaconda3/lib/python3.10/site-packages (from Flask<2.3.0,>=1.0.4->dash->dash_bootstrap_templates) (8.0.4)\n",
      "Requirement already satisfied: tenacity>=6.2.0 in /Users/kasahunabdisa/anaconda3/lib/python3.10/site-packages (from plotly>=5.0.0->dash->dash_bootstrap_templates) (8.0.1)\n",
      "Requirement already satisfied: MarkupSafe>=2.1.1 in /Users/kasahunabdisa/anaconda3/lib/python3.10/site-packages (from Werkzeug<2.3.0->dash->dash_bootstrap_templates) (2.1.1)\n",
      "Requirement already satisfied: urllib3<1.27,>=1.21.1 in /Users/kasahunabdisa/anaconda3/lib/python3.10/site-packages (from requests->dash->dash_bootstrap_templates) (1.26.14)\n",
      "Requirement already satisfied: certifi>=2017.4.17 in /Users/kasahunabdisa/anaconda3/lib/python3.10/site-packages (from requests->dash->dash_bootstrap_templates) (2022.12.7)\n",
      "Requirement already satisfied: idna<4,>=2.5 in /Users/kasahunabdisa/anaconda3/lib/python3.10/site-packages (from requests->dash->dash_bootstrap_templates) (3.4)\n",
      "Requirement already satisfied: charset-normalizer<3,>=2 in /Users/kasahunabdisa/anaconda3/lib/python3.10/site-packages (from requests->dash->dash_bootstrap_templates) (2.0.4)\n",
      "Requirement already satisfied: six>=1.7.0 in /Users/kasahunabdisa/anaconda3/lib/python3.10/site-packages (from retrying->dash->dash_bootstrap_templates) (1.16.0)\n",
      "Installing collected packages: dash_bootstrap_templates\n",
      "Successfully installed dash_bootstrap_templates-1.0.8\n",
      "Note: you may need to restart the kernel to use updated packages.\n"
     ]
    }
   ],
   "source": [
    "pip install dash_bootstrap_templates"
   ]
  },
  {
   "cell_type": "code",
   "execution_count": null,
   "id": "aadfa5a7",
   "metadata": {},
   "outputs": [],
   "source": [
    "kill(pid, SIGKILL)"
   ]
  },
  {
   "cell_type": "code",
   "execution_count": 25,
   "id": "c0008de1",
   "metadata": {},
   "outputs": [],
   "source": [
    "from dash import Dash, dcc, html, Input, Output"
   ]
  },
  {
   "cell_type": "code",
   "execution_count": 47,
   "id": "f25c0fdb",
   "metadata": {},
   "outputs": [
    {
     "data": {
      "text/html": [
       "\n",
       "        <iframe\n",
       "            width=\"100%\"\n",
       "            height=\"650\"\n",
       "            src=\"http://127.0.0.1:9041/\"\n",
       "            frameborder=\"0\"\n",
       "            allowfullscreen\n",
       "            \n",
       "        ></iframe>\n",
       "        "
      ],
      "text/plain": [
       "<IPython.lib.display.IFrame at 0x1296f1840>"
      ]
     },
     "metadata": {},
     "output_type": "display_data"
    }
   ],
   "source": [
    "import pandas as pd\n",
    "import numpy as np\n",
    "import dash\n",
    "from dash import html\n",
    "from dash import dcc\n",
    "import dash_bootstrap_components as dbc\n",
    "from dash_bootstrap_templates import load_figure_template\n",
    "import plotly.graph_objs as go\n",
    "import plotly.express as px\n",
    "from dash.dependencies import Input,Output\n",
    "from dash import callback_context\n",
    "\n",
    "\n",
    "load_figure_template('LUX')\n",
    "\n",
    "\n",
    "###--------------Build the figures / dropdowns------------------------------------\n",
    "\n",
    "x = np.random.sample(100)\n",
    "y = np.random.sample(100)\n",
    "z = np.random.choice(a = ['a','b','c'], size = 100)\n",
    "\n",
    "\n",
    "df1 = pd.DataFrame({'x': x, 'y':y, 'z':z}, index = range(100))\n",
    "\n",
    "fig1 = px.scatter(df1, x= x, y = y, color = z)\n",
    "\n",
    "SIDEBAR_STYLE = {\n",
    "    \"position\": \"fixed\",\n",
    "    \"top\": 0,\n",
    "    \"left\": 0,\n",
    "    \"bottom\": 0,\n",
    "    \"width\": \"24rem\",\n",
    "    \"padding\": \"2rem 1rem\",\n",
    "    \"background-color\": \"#f8f9fa\",\n",
    "}\n",
    "\n",
    "\n",
    "sidebar = html.Div(\n",
    "    [\n",
    "        html.H2(\"Filters\"),\n",
    "        html.Hr(),\n",
    "        html.P(\n",
    "            \"A simple sidebar layout with filters\", className=\"lead\"\n",
    "        ),\n",
    "        dbc.Nav(\n",
    "            [\n",
    "                dcc.Dropdown(id = 'one'),\n",
    "                html.Br(),\n",
    "                dcc.Dropdown(id = 'two'),\n",
    "                html.Br(),\n",
    "                dcc.Dropdown(id = 'three')\n",
    "\n",
    "            ],\n",
    "            vertical=True,\n",
    "            pills=True,\n",
    "        ),\n",
    "    ],\n",
    "    style=SIDEBAR_STYLE,\n",
    ")\n",
    "\n",
    "\n",
    "###---------------Create the layout of the app ------------------------\n",
    "\n",
    "app = dash.Dash(external_stylesheets=[dbc.themes.LUX])\n",
    "\n",
    "app.layout = html.Div(children = [\n",
    "                dbc.Row([\n",
    "                    dbc.Col(),\n",
    "\n",
    "                    dbc.Col(html.H1('Welcome to my dash app'),width = 9, style = {'margin-left':'7px','margin-top':'7px'})\n",
    "                    ]),\n",
    "                dbc.Row(\n",
    "                    [dbc.Col(sidebar),\n",
    "                    dbc.Col(dcc.Graph(id = 'graph1', figure = fig1), width = 9, style = {'margin-left':'15px', 'margin-top':'7px', 'margin-right':'15px'})\n",
    "                    ])\n",
    "    ]\n",
    ")\n",
    "\n",
    "\n",
    "\n",
    "if __name__ == '__main__':\n",
    "    app.run_server(port = 9041, debug=True)"
   ]
  },
  {
   "cell_type": "code",
   "execution_count": null,
   "id": "58c32dcd",
   "metadata": {},
   "outputs": [],
   "source": []
  },
  {
   "cell_type": "code",
   "execution_count": null,
   "id": "b99c8415",
   "metadata": {},
   "outputs": [],
   "source": []
  },
  {
   "cell_type": "code",
   "execution_count": null,
   "id": "0c9e08b6",
   "metadata": {},
   "outputs": [],
   "source": []
  },
  {
   "cell_type": "code",
   "execution_count": null,
   "id": "191bf87b",
   "metadata": {},
   "outputs": [],
   "source": []
  }
 ],
 "metadata": {
  "kernelspec": {
   "display_name": "Python 3 (ipykernel)",
   "language": "python",
   "name": "python3"
  },
  "language_info": {
   "codemirror_mode": {
    "name": "ipython",
    "version": 3
   },
   "file_extension": ".py",
   "mimetype": "text/x-python",
   "name": "python",
   "nbconvert_exporter": "python",
   "pygments_lexer": "ipython3",
   "version": "3.10.9"
  }
 },
 "nbformat": 4,
 "nbformat_minor": 5
}
